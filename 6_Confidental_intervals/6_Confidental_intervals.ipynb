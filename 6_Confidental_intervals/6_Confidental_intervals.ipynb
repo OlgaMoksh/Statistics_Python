{
 "cells": [
  {
   "cell_type": "code",
   "execution_count": 1,
   "id": "daf5d45b",
   "metadata": {},
   "outputs": [],
   "source": [
    "import numpy as np  \n",
    "import pandas as pd  \n",
    "import scipy.stats as st\n",
    "import matplotlib.pyplot as plt  \n",
    "import seaborn as sns \n"
   ]
  },
  {
   "cell_type": "code",
   "execution_count": 2,
   "id": "8a1b1da8",
   "metadata": {
    "scrolled": true
   },
   "outputs": [
    {
     "name": "stdout",
     "output_type": "stream",
     "text": [
      "Для определения минимально необходимого объема выборки введите: \n",
      "\tжелаемую точность: 3\n",
      "\tдисперсию: 225\n",
      "\tуровень доверия: 0.95\n",
      "Mинимально необходимый объем выборки для построения интервальной оценки среднего равен: 96\n"
     ]
    }
   ],
   "source": [
    "#Задание № 0\n",
    "\n",
    "'''Найдите минимально необходимый объем выборки для построения интервальной оценки среднего.\n",
    "\n",
    "    желаемая точность Δ = 3;\n",
    "    дисперсия 𝜎2 = 225;\n",
    "    уровень доверия 𝛽 = 0.95.\n",
    "\n",
    "Ответ округлите до целого'''\n",
    "\n",
    "### Предполагается нормальное распределение\n",
    "accuracy = float(input('Для определения минимально необходимого объема выборки введите: \\n\\tжелаемую точность: '))\n",
    "var_squared = float(input('\\tдисперсию: '))\n",
    "confidence_level = float(input('\\tуровень доверия: '))\n",
    "if accuracy == 0:\n",
    "    print(\"Деление на 0\")\n",
    "    \n",
    "elif confidence_level > 1:\n",
    "    print('Неверно указан уровень доверия')\n",
    "\n",
    "else:\n",
    "    \n",
    "    n = var_squared*((st.norm.ppf(0.5*(1+confidence_level)))**2)/(accuracy**2)\n",
    "    print('Mинимально необходимый объем выборки для построения интервальной оценки среднего равен:', int(round(n, 0)))\n"
   ]
  },
  {
   "cell_type": "code",
   "execution_count": 4,
   "id": "a3d80051",
   "metadata": {},
   "outputs": [
    {
     "name": "stdout",
     "output_type": "stream",
     "text": [
      "Для построения доверительного интервала для среднего значения: \n",
      "\tуровень доверия: 0.98\n",
      "\tобъем выборки: 25\n",
      "\tсреднее значение по выборке: 130\n",
      "\tстандартное отклонение: 15\n",
      "Длина полученного доверительного интервала: 14\n"
     ]
    }
   ],
   "source": [
    "#Задание № 1\n",
    "\n",
    "'''Постройте 98% доверительный интервал для среднего значения, если известно, что\n",
    "\n",
    "    объем выборки n = 25;\n",
    "    среднее значение по выборке 𝑥 = 130;\n",
    "Из достоверных источников известно стандартное отклонение 𝜎=15.\n",
    "\n",
    "В ответ укажите длину полученного доверительного интервала \n",
    "(разницу между правым и левым концом), окруленную до целого'''\n",
    "\n",
    "### Предполагается нормальное распределение\n",
    "\n",
    "confidence_level = float(input('Для построения доверительного интервала для среднего значения: \\n\\tуровень доверия: '))\n",
    "size = float(input('\\tобъем выборки: '))\n",
    "average = float(input('\\tсреднее значение по выборке: '))\n",
    "standard_deviation = float(input('\\tстандартное отклонение: '))\n",
    "quantile = st.norm.ppf(0.5*(1+confidence_level))\n",
    "if size == 0:\n",
    "    print(\"Неверно указан объем выборки (деление на 0)\")\n",
    "    \n",
    "elif confidence_level > 1:\n",
    "    print('Неверно указан уровень доверия')\n",
    "\n",
    "else:\n",
    "    left_border = average - (quantile*(standard_deviation/np.sqrt(size)))\n",
    "    right_border = average + (quantile*(standard_deviation/np.sqrt(size)))\n",
    "    L = right_border - left_border  #Запишите в эту переменную ваш высчитанный ответ!\n",
    "\n",
    "    print('Длина полученного доверительного интервала:', int(round(L, 0)))\n"
   ]
  },
  {
   "cell_type": "code",
   "execution_count": 3,
   "id": "64b64498",
   "metadata": {
    "scrolled": true
   },
   "outputs": [
    {
     "data": {
      "text/plain": [
       "Ttest_indResult(statistic=3.6635841716708897, pvalue=0.00024875321039012085)"
      ]
     },
     "execution_count": 3,
     "metadata": {},
     "output_type": "execute_result"
    },
    {
     "data": {
      "image/png": "[encoded data removed]",
      "text/plain": [
       "<Figure size 432x288 with 1 Axes>"
      ]
     },
     "metadata": {
      "needs_background": "light"
     },
     "output_type": "display_data"
    }
   ],
   "source": [
    "#Задание № 2\n",
    "\n",
    "'''Даны две выборки роста мужчин и женщин.\n",
    "\n",
    "    Докажите, используя t-Тест Стьдента, что различие между выборками незначительно, \n",
    "    если уровень значимости равен 𝛼 = 0.001.\n",
    "Покажите различия визуально'''\n",
    "\n",
    "np.random.seed(42) #фиксация случайности\n",
    "\n",
    "men  = st.norm.rvs(loc=171, scale=100, size=150000)  # Выборка мужчин со средним ростом 171\n",
    "women = st.norm.rvs(loc=170, scale=100, size=150000)  # Выборка женщин со средним ростом 170\n",
    "\n",
    "significance_level = 0.001\n",
    "#В двух строчках выше генерируется две выбороки, где loc это среднее значение, а scale это дисперсия\n",
    "\n",
    "\n",
    "t, p_value = st.ttest_ind(men, women, equal_var=False) #Критерий Стьюдента (t-test)\n",
    "\n",
    "plt.title('Сравнение случайных выборок мужчин и женщин со средний ростом 171см и 170см\\n')\n",
    "\n",
    "plt.hist(men, bins=25)\n",
    "plt.hist(women, bins=25) \n",
    "\n",
    "if p_value < significance_level:\n",
    "    plt.text(-400, -5000,'Различие между выборками значительно')\n",
    "    \n",
    "st.ttest_ind(men, women, equal_var=False)"
   ]
  },
  {
   "cell_type": "markdown",
   "id": "83d4dd2f",
   "metadata": {},
   "source": [
    "Поскольку полученное значение pvalue (~ 0.00025) ниже заданного уровня значимости 𝛼 (0.001), то нулевую гипотезу (в данном случае о статистически незначимом различии между рассматриваемыми выборками) следует отвергнуть и принять альтернативную гипотезу о значительности различий между рассматриваемыми выборками."
   ]
  },
  {
   "cell_type": "code",
   "execution_count": 6,
   "id": "0ff60bfe",
   "metadata": {},
   "outputs": [
    {
     "name": "stdout",
     "output_type": "stream",
     "text": [
      "35.0\n"
     ]
    }
   ],
   "source": [
    "#Задание № 3\n",
    "\n",
    "'''Определите объем необходимой выборки для исследования среднего чека за кофе в случайном городе \n",
    "если известно, что в этом городе:\n",
    "\n",
    "    стандартное отклонение 𝜎=150;\n",
    "    уровень доверия 𝛽 = 95%;\n",
    "    Погрешность Δ=50 рублей.'''\n",
    "\n",
    "standard_deviation = 150\n",
    "confidence_level = 0.95\n",
    "inaccuracy = 50\n",
    "quantile = st.norm.ppf(0.5*(1+confidence_level))\n",
    "size = ((quantile*standard_deviation)/inaccuracy)**2\n",
    "print(round(size, 0))"
   ]
  },
  {
   "cell_type": "code",
   "execution_count": 7,
   "id": "9f9f26de",
   "metadata": {},
   "outputs": [
    {
     "name": "stdout",
     "output_type": "stream",
     "text": [
      "        Верные ответы волшебника  Неверные ответы\n",
      "Дождь                         10               15\n",
      "Солнце                        39               34\n"
     ]
    },
    {
     "data": {
      "text/plain": [
       "(0.5811965811965812, 0.35417955365927367)"
      ]
     },
     "execution_count": 7,
     "metadata": {},
     "output_type": "execute_result"
    }
   ],
   "source": [
    "#Задание № 4\n",
    "\n",
    "'''Представьте, что вы хотите разоблачить \"волшебника\" который считает, \n",
    "что умеет предсказывать погоду на завтра, отвечая просто: дождь или солнце. \n",
    "    Вы пронаблюдали за ответами \"волшебника\" в течении какого-то периода времени \n",
    "    и получили некие результаты (см.ниже).\n",
    "\n",
    "Можно ли сказать, что маг действительно умеет предсказывать погоду? \n",
    "Уровень значимости принять за 0.05 (𝛼=0.05).'''\n",
    "\n",
    "observations = pd.DataFrame([[10, 15],[39, 34]],\n",
    "                            index=['Дождь','Солнце'],\n",
    "                            columns=['Верные ответы волшебника','Неверные ответы'])\n",
    "print(observations)\n",
    "\n",
    "\n",
    "# Учтите, что у стат. тестов, в том числе и точного теста Фишера под нулевой гипотезой \n",
    "#подразумевается случайность/отсутствие эффекта\n",
    "\n",
    "oddsratio, pvalue = st.fisher_exact(observations)\n",
    "\n",
    "oddsratio, pvalue\n"
   ]
  },
  {
   "cell_type": "markdown",
   "id": "a1e3ca6d",
   "metadata": {},
   "source": [
    "Поскольку pvalue (0.35) выше принятого уровня значимости 𝛼 (0.05), то оснований отвергать нулевую гипотезу о случайности предсказаний погоды нет."
   ]
  },
  {
   "cell_type": "code",
   "execution_count": 24,
   "id": "08cd8444",
   "metadata": {},
   "outputs": [
    {
     "data": {
      "text/plain": [
       "(6.074074746111319, 7.183068111031539)"
      ]
     },
     "execution_count": 24,
     "metadata": {},
     "output_type": "execute_result"
    }
   ],
   "source": [
    "#Задание № 5\n",
    "\n",
    "'''Используя функцию mean_confidence_interval(data, confidence), \n",
    "постройте доверительный интервал с уровнем доверия 𝛽=90%\n",
    "для выборки:'''\n",
    "    \n",
    "data = [4,5,8,9,6,7,5,6,7,8,5,6,7,0,9,8,4,6,7,9,8,6,5,7,8,9,6,7,5,8,6,7,9,5,10]\n",
    "\n",
    "#plt.hist(data, bins=25)#посмотрим на выборку\n",
    "\n",
    "def mean_confidence_interval(data, confidence):\n",
    "    n = len(data)\n",
    "    m, se = np.mean(data), st.sem(data)\n",
    "    h = se * st.t.ppf((1 + confidence)/2, n)  \n",
    "    return m-h, m+h \n",
    "\n",
    "\n",
    "\n",
    "mean_confidence_interval(data, confidence=0.90)\n",
    "\n"
   ]
  },
  {
   "cell_type": "code",
   "execution_count": 15,
   "id": "0c6fe505",
   "metadata": {},
   "outputs": [
    {
     "name": "stdout",
     "output_type": "stream",
     "text": [
      "t_value: 11.803253652222743 _pvalue:  1.3216865332483862e-24\n"
     ]
    },
    {
     "data": {
      "image/png": "[encoded data removed]",
      "text/plain": [
       "<Figure size 432x288 with 1 Axes>"
      ]
     },
     "metadata": {
      "needs_background": "light"
     },
     "output_type": "display_data"
    }
   ],
   "source": [
    "#Задание № 6\n",
    "\n",
    "'''Принадлежат ли выборки A и B одному множеству?\n",
    "\n",
    "    Оцените это с помощью известных вам тестов для проверок статистических гипотез;\n",
    "    Покажите различия визуально.\n",
    "'''\n",
    "A = [4,5,8,9,6,7,5,6,7,6,8,5,6,7,8,4,\n",
    "    6,7,9,8,6,5,7,8,6,7,5,6,8,6,7,5,\n",
    "    4,5,8,9,6,7,5,6,7,6,8,5,6,7,8,4,\n",
    "    6,7,9,8,6,5,7,8,6,7,5,6,8,6,7,5,\n",
    "    4,5,8,9,6,7,5,6,7,6,8,5,6,7,8,4,\n",
    "    6,7,9,8,6,5,7,8,6,7,5,6,8,6,7,5,\n",
    "    4,5,8,9,6,7,5,6,7,6,8,5,6,7,8,4]\n",
    "\n",
    "B = [5,6,7,8,4,6,7,2,6,5,7,5,3,5,3,\n",
    "    5,3,5,5,8,7,6,4,5,3,5,4,6,4,5,3,\n",
    "    2,6,4,3,5,4,3,4,5,4,3,4,5,4,3,4,\n",
    "    2,6,4,3,5,4,3,4,5,4,3,4,5,4,3,4,\n",
    "    3,4,4,1,2,4,3,2,4,3,2,1,5,3,4,6,\n",
    "    3,2,4,5,6,4,3,3,5,3,4,4,4,2,5,3]\n",
    " \n",
    "\n",
    "#Ваш код:\n",
    "tvalue, pvalue = st.ttest_ind(A, B, equal_var=False)\n",
    "\n",
    "print('t_value:',tvalue, '_pvalue: ',pvalue)\n",
    "\n",
    "plt.hist(A, bins=15);\n",
    "plt.hist(B, bins=15);\n",
    "\n"
   ]
  },
  {
   "cell_type": "markdown",
   "id": "f8f48259",
   "metadata": {},
   "source": [
    "Выборки А и В принадлежат одному множеству, поскольку значение pvalue ниже общепринятого уровня значимости 0.05, то есть основания отвергнуть нулевую гипотезу (в данном случае о принадлежности выборок разным множествам)."
   ]
  },
  {
   "cell_type": "code",
   "execution_count": null,
   "id": "da74deee",
   "metadata": {},
   "outputs": [],
   "source": [
    "#Задание № 7 (задание без подвоха)\n",
    "\n",
    "'''На примере датасета про жилье в New York City, мы сталкивались с примером, \n",
    "когда переменная имеет не совсем нормальное распределение.\n",
    "\n",
    "    Предположим, Вы сформировали две гипотезы:\n",
    "        нулевая гипотеза - распределение нормальное;\n",
    "        альтернативная гипотеза - распределение ненормальное.\n",
    "допустим, вы применили какой-то тест (сейчас неважно какой), \n",
    "который показал уровень значимости p-value = 0.03. \n",
    "Каковы будут ваши выводы? Будем считать что у нас нормальное распределение или все-таки нет?)'''\n",
    "\n"
   ]
  },
  {
   "cell_type": "markdown",
   "id": "ea1542fb",
   "metadata": {},
   "source": [
    "Распределение ненормальное, поскольку если сравнивать с общепринятым стандартным уровнем значимости 5%, \n",
    "то нулевую гипотезу (в данном случае, что распределение нормальное) необходимо отвергнуть"
   ]
  },
  {
   "cell_type": "code",
   "execution_count": 22,
   "id": "48479da4",
   "metadata": {},
   "outputs": [
    {
     "data": {
      "text/plain": [
       "Ttest_indResult(statistic=-1.95300880485141, pvalue=0.051284961272800134)"
      ]
     },
     "execution_count": 22,
     "metadata": {},
     "output_type": "execute_result"
    },
    {
     "data": {
      "image/png": "[encoded data removed]",
      "text/plain": [
       "<Figure size 432x288 with 1 Axes>"
      ]
     },
     "metadata": {
      "needs_background": "light"
     },
     "output_type": "display_data"
    }
   ],
   "source": [
    "#Задание № 8\n",
    "\n",
    "'''Первая выборка — это пациенты, которых лечили препаратом А. Вторая выборка — пациенты, которых лечили препаратом B.\n",
    "\n",
    "Значения в выборках — это некоторая характеристика эффективности лечения \n",
    "(уровень метаболита в крови, температура через три дня после начала лечения, \n",
    " срок выздоровления, число койко-дней, и т.д.)\n",
    "\n",
    "Требуется выяснить, имеется ли значимое различие эффективности препаратов А и B, \n",
    "или различия являются чисто случайными и объясняются «естественной» дисперсией выбранной характеристики? \n",
    "(уровень значимости принять за 0.05 (5%))\n",
    "\n",
    "При каком минимальном p-value различия были бы уже значимы?\n",
    "\n",
    "Если выборки незначительно отличаются, то продемонстрируйте это визуально'''\n",
    "\n",
    "np.random.seed(11)\n",
    "A = st.norm.rvs(scale=15, loc=169, size=300)\n",
    "B = st.norm.rvs(scale=14, loc=171.4, size=300)\n",
    "\n",
    "plt.hist(B, bins=15);\n",
    "plt.hist(A, bins=15);\n",
    "\n",
    "\n",
    "\n",
    "st.ttest_ind(A, B, equal_var=False)\n",
    "\n",
    "# Подсказка, обратите внимание на Two-sample T-test"
   ]
  },
  {
   "cell_type": "markdown",
   "id": "3ffaef88",
   "metadata": {},
   "source": [
    "Поскольку значение pvalue(0.051) выше общепринятого стандартного уровня значимости (0.05), то есть основание принять нулевую гипотезу о случайном характере различий между выборками, т.е. об их статистической незначимости. \n",
    "Различия станут статистически значимыми уже при pvalue = 0.050 и ниже"
   ]
  }
 ],
 "metadata": {
  "kernelspec": {
   "display_name": "Python 3",
   "language": "python",
   "name": "python3"
  },
  "language_info": {
   "codemirror_mode": {
    "name": "ipython",
    "version": 3
   },
   "file_extension": ".py",
   "mimetype": "text/x-python",
   "name": "python",
   "nbconvert_exporter": "python",
   "pygments_lexer": "ipython3",
   "version": "3.8.8"
  }
 },
 "nbformat": 4,
 "nbformat_minor": 5
}
